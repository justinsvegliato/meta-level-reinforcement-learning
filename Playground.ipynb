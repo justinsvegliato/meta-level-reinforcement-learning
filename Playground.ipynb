{
 "cells": [
  {
   "cell_type": "code",
   "execution_count": 1,
   "id": "19fbe84f-e072-4fb9-a8c4-62f489715d6a",
   "metadata": {},
   "outputs": [
    {
     "name": "stderr",
     "output_type": "stream",
     "text": [
      "/usr/lib/python3/dist-packages/requests/__init__.py:89: RequestsDependencyWarning: urllib3 (1.26.11) or chardet (3.0.4) doesn't match a supported version!\n",
      "  warnings.warn(\"urllib3 ({}) or chardet ({}) doesn't match a supported \"\n"
     ]
    }
   ],
   "source": [
    "import tf_agents\n",
    "import gym\n",
    "import gym_maze"
   ]
  },
  {
   "cell_type": "code",
   "execution_count": 5,
   "id": "4ec7964e-d9a3-4ce8-81fc-aad2d252d0be",
   "metadata": {},
   "outputs": [],
   "source": [
    "import os\n",
    "os.environ[\"SDL_VIDEODRIVER\"] = \"dummy\""
   ]
  },
  {
   "cell_type": "code",
   "execution_count": 6,
   "id": "0f30dc3b-b2e3-45ab-ad0c-02b355c2f0c3",
   "metadata": {},
   "outputs": [
    {
     "data": {
      "text/plain": [
       "[(1024, 768)]"
      ]
     },
     "execution_count": 6,
     "metadata": {},
     "output_type": "execute_result"
    }
   ],
   "source": [
    "import pygame\n",
    "pygame.init()\n",
    "pygame.display.list_modes()"
   ]
  },
  {
   "cell_type": "code",
   "execution_count": null,
   "id": "b3333028-1688-4fe6-89b7-69ee10e2cbcd",
   "metadata": {},
   "outputs": [],
   "source": [
    "import matplotlib.pyplot as plt\n",
    "%matplotlib inline\n",
    "\n",
    "from IPython.display import clear_output\n",
    "import time"
   ]
  },
  {
   "cell_type": "code",
   "execution_count": 7,
   "id": "b415875d-bbce-4eba-b2ab-58ae6bacbfa6",
   "metadata": {},
   "outputs": [],
   "source": [
    "env = gym.make(\"maze-random-10x10-plus-v0\")"
   ]
  },
  {
   "cell_type": "code",
   "execution_count": 30,
   "id": "150205a6-6c82-4c18-8c88-9d872dea2662",
   "metadata": {},
   "outputs": [
    {
     "data": {
      "image/png": "[encoded data removed]",
      "text/plain": [
       "<Figure size 432x288 with 1 Axes>"
      ]
     },
     "metadata": {
      "needs_background": "light"
     },
     "output_type": "display_data"
    }
   ],
   "source": [
    "try:\n",
    "    env.reset()\n",
    "    while True:\n",
    "        # render\n",
    "        plt.imshow(env.render())\n",
    "        plt.axis('off')\n",
    "        plt.show()\n",
    "        clear_output(wait=True)\n",
    "        time.sleep(0.05)\n",
    "        \n",
    "        # act\n",
    "        random_action = env.action_space.sample()\n",
    "        env.step(random_action)\n",
    "        \n",
    "except KeyboardInterrupt:\n",
    "    pass"
   ]
  },
  {
   "cell_type": "code",
   "execution_count": null,
   "id": "7399a249-0083-4489-abab-bd12d187981a",
   "metadata": {},
   "outputs": [],
   "source": []
  }
 ],
 "metadata": {
  "kernelspec": {
   "display_name": "Python 3",
   "language": "python",
   "name": "python3"
  },
  "language_info": {
   "codemirror_mode": {
    "name": "ipython",
    "version": 3
   },
   "file_extension": ".py",
   "mimetype": "text/x-python",
   "name": "python",
   "nbconvert_exporter": "python",
   "pygments_lexer": "ipython3",
   "version": "3.8.10"
  }
 },
 "nbformat": 4,
 "nbformat_minor": 5
}
