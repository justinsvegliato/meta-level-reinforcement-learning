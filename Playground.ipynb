{
 "cells": [
  {
   "cell_type": "code",
   "execution_count": 225,
   "id": "19fbe84f-e072-4fb9-a8c4-62f489715d6a",
   "metadata": {},
   "outputs": [],
   "source": [
    "import numpy as np\n",
    "import pandas as pd\n",
    "import random\n",
    "\n",
    "import tf_agents\n",
    "import gym\n",
    "import gym_maze"
   ]
  },
  {
   "cell_type": "code",
   "execution_count": 5,
   "id": "4ec7964e-d9a3-4ce8-81fc-aad2d252d0be",
   "metadata": {},
   "outputs": [],
   "source": [
    "import os\n",
    "os.environ[\"SDL_VIDEODRIVER\"] = \"dummy\""
   ]
  },
  {
   "cell_type": "code",
   "execution_count": 6,
   "id": "0f30dc3b-b2e3-45ab-ad0c-02b355c2f0c3",
   "metadata": {},
   "outputs": [
    {
     "data": {
      "text/plain": [
       "[(1024, 768)]"
      ]
     },
     "execution_count": 6,
     "metadata": {},
     "output_type": "execute_result"
    }
   ],
   "source": [
    "import pygame\n",
    "pygame.init()\n",
    "pygame.display.list_modes()"
   ]
  },
  {
   "cell_type": "code",
   "execution_count": null,
   "id": "b3333028-1688-4fe6-89b7-69ee10e2cbcd",
   "metadata": {},
   "outputs": [],
   "source": [
    "import matplotlib.pyplot as plt\n",
    "%matplotlib inline\n",
    "\n",
    "import seaborn as sns\n",
    "sns.set()\n",
    "\n",
    "from IPython.display import clear_output\n",
    "import time"
   ]
  },
  {
   "cell_type": "markdown",
   "id": "680a906e-2e50-4812-8153-830ed5aa07d6",
   "metadata": {},
   "source": [
    "## Maze Environment\n",
    "\n",
    "The maze environment implementation we will use is an open source custom OpenAI Gym environment called [Gym-Maze](https://github.com/MattChanTK/gym-maze).\n",
    "\n",
    "> [Gym-Maze is a] simple 2D maze environment where an agent (blue dot) finds its way from the top left corner (blue square) to the goal at the bottom right corner (red square). The objective is to find the shortest path from the start to the goal. The agent may only choose to go up, down, right, or left (\"N\", \"S\", \"E\", \"W\"). If the way is blocked, it will remain at the same the location. The observation space is the (x, y) coordinate of the agent. The top left cell is (0, 0). A reward of 1 is given when the agent reaches the goal. For every step in the maze, the agent recieves a reward of -0.1/(number of cells)."
   ]
  },
  {
   "cell_type": "code",
   "execution_count": 307,
   "id": "b415875d-bbce-4eba-b2ab-58ae6bacbfa6",
   "metadata": {},
   "outputs": [],
   "source": [
    "random.seed(0)\n",
    "env = gym.make(\"maze-random-10x10-plus-v0\")"
   ]
  },
  {
   "cell_type": "code",
   "execution_count": 308,
   "id": "d362beb7-ff14-435f-991b-9b044d7b46ac",
   "metadata": {},
   "outputs": [],
   "source": [
    "def render(env):\n",
    "    plt.imshow(env.render())\n",
    "    plt.axis('off')\n",
    "    plt.show()"
   ]
  },
  {
   "cell_type": "code",
   "execution_count": 309,
   "id": "150205a6-6c82-4c18-8c88-9d872dea2662",
   "metadata": {},
   "outputs": [
    {
     "data": {
      "image/png": "[encoded data removed]",
      "text/plain": [
       "<Figure size 432x288 with 1 Axes>"
      ]
     },
     "metadata": {
      "needs_background": "light"
     },
     "output_type": "display_data"
    }
   ],
   "source": [
    "try:\n",
    "    env.reset()\n",
    "    while True:\n",
    "        # render\n",
    "        render(env)\n",
    "        clear_output(wait=True)\n",
    "        time.sleep(0.05)\n",
    "        \n",
    "        # act\n",
    "        random_action = env.action_space.sample()\n",
    "        env.step(random_action)\n",
    "        \n",
    "except KeyboardInterrupt:\n",
    "    pass"
   ]
  },
  {
   "cell_type": "markdown",
   "id": "e72992fe-461b-455a-8d89-58dec2029da4",
   "metadata": {},
   "source": [
    "## Tracking and Setting States\n",
    "\n",
    "In order to construct a search tree over the environment we need to be able to track and set the object-level states. Each node in a search tree will hold a state that we have explored, but we do not want to constantly copy the entire environment object as most of this will be irrelevant information. In order to perform a node expansion we will set the environment state to the state of the node, perform an action using `env.step`, and create a new child node from the resultant state of the environment.\n",
    "\n",
    "The Gym-Maze environment tracks the state of the robot in the maze with the `env.state` and `env.maze_view._MazeView2D__robot` variables. But we also need to track the `env.steps_beyond_done` and `env.done` variables in order to prevent issues when we use `env.step`. When setting a state we follow the same procedure as `env.reset`, except with our target variables. This procedure can be seen [here in the Gym-Maze source code](https://github.com/MattChanTK/gym-maze/blob/83176811b49b5538a6213520612f44fb1bc49114/gym_maze/envs/maze_env.py#L92)."
   ]
  },
  {
   "cell_type": "markdown",
   "id": "751ebcd0-05e7-4d73-b5a1-5e345d8c96eb",
   "metadata": {},
   "source": [
    "### Creating getters/setters\n",
    "\n",
    "Reseting the environment and taking a random direction"
   ]
  },
  {
   "cell_type": "code",
   "execution_count": 326,
   "id": "b00d138c-1c95-4b0e-afb4-757e9fe68e80",
   "metadata": {},
   "outputs": [],
   "source": [
    "random.seed(0)\n",
    "env = gym.make(\"maze-random-10x10-plus-v0\")"
   ]
  },
  {
   "cell_type": "code",
   "execution_count": 327,
   "id": "87283a21-6b37-43e1-9732-38892c711931",
   "metadata": {},
   "outputs": [
    {
     "data": {
      "text/plain": [
       "(array([1, 0]), -0.001, False, {})"
      ]
     },
     "execution_count": 327,
     "metadata": {},
     "output_type": "execute_result"
    }
   ],
   "source": [
    "env.reset()\n",
    "move_right_action = 2\n",
    "env.step(move_right_action)"
   ]
  },
  {
   "cell_type": "code",
   "execution_count": 328,
   "id": "e778321f-7428-4f8b-b82d-a77cae02e856",
   "metadata": {},
   "outputs": [
    {
     "data": {
      "image/png": "[encoded data removed]",
      "text/plain": [
       "<Figure size 432x288 with 1 Axes>"
      ]
     },
     "metadata": {
      "needs_background": "light"
     },
     "output_type": "display_data"
    }
   ],
   "source": [
    "render(env)"
   ]
  },
  {
   "cell_type": "markdown",
   "id": "c240fac0-be92-40d9-b882-92fbf0ec0037",
   "metadata": {},
   "source": [
    "Keep note of this state, as it is what we will aim to restore\n",
    "\n",
    "Defining the state getters and setters"
   ]
  },
  {
   "cell_type": "code",
   "execution_count": 329,
   "id": "de07e935-590a-45a0-ae2e-105f64dd4ffa",
   "metadata": {},
   "outputs": [],
   "source": [
    "def get_state(env):\n",
    "    return (np.array(env.state.copy()), env.steps_beyond_done, env.done)\n",
    "\n",
    "\n",
    "def set_state(env, state):    \n",
    "    robot_state, steps_beyond_done, done = state \n",
    "    \n",
    "    env.maze_view._MazeView2D__draw_robot(transparency=0)\n",
    "    env.maze_view._MazeView2D__robot = robot_state\n",
    "    env.maze_view._MazeView2D__draw_robot(transparency=255)\n",
    "    \n",
    "    env.state = robot_state\n",
    "    env.steps_beyond_done = steps_beyond_done\n",
    "    env.done = done"
   ]
  },
  {
   "cell_type": "markdown",
   "id": "635f2884-cd84-4565-890d-9bc251adbbbd",
   "metadata": {},
   "source": [
    "Storing the current state to show the getter work"
   ]
  },
  {
   "cell_type": "code",
   "execution_count": 330,
   "id": "3f2d76c6-f433-4f09-a909-e94a285231af",
   "metadata": {},
   "outputs": [
    {
     "data": {
      "text/plain": [
       "(array([1, 0]), None, False)"
      ]
     },
     "execution_count": 330,
     "metadata": {},
     "output_type": "execute_result"
    }
   ],
   "source": [
    "state = get_state(env)\n",
    "state"
   ]
  },
  {
   "cell_type": "markdown",
   "id": "210d7d22-e91d-46f6-8d00-be3ccdd1ae67",
   "metadata": {},
   "source": [
    "Taking another step to the right."
   ]
  },
  {
   "cell_type": "code",
   "execution_count": 331,
   "id": "a5722bef-f476-4df3-bf02-5d9ee28562dd",
   "metadata": {},
   "outputs": [
    {
     "data": {
      "image/png": "[encoded data removed]",
      "text/plain": [
       "<Figure size 432x288 with 1 Axes>"
      ]
     },
     "metadata": {
      "needs_background": "light"
     },
     "output_type": "display_data"
    }
   ],
   "source": [
    "env.step(move_right_action)\n",
    "render(env)"
   ]
  },
  {
   "cell_type": "markdown",
   "id": "785eda3c-eb3e-4b76-9a93-770b7e7c30f0",
   "metadata": {},
   "source": [
    "Seeing that the `set_state` function correctly restores the original state before the second step."
   ]
  },
  {
   "cell_type": "code",
   "execution_count": 332,
   "id": "d5968c8d-971d-4658-89a6-8c03b84c95cb",
   "metadata": {},
   "outputs": [
    {
     "data": {
      "image/png": "[encoded data removed]",
      "text/plain": [
       "<Figure size 432x288 with 1 Axes>"
      ]
     },
     "metadata": {
      "needs_background": "light"
     },
     "output_type": "display_data"
    }
   ],
   "source": [
    "set_state(env, state)\n",
    "render(env)"
   ]
  },
  {
   "cell_type": "markdown",
   "id": "e4d73a6e-1b27-4950-a184-3e8897729f85",
   "metadata": {},
   "source": [
    "Move down from the restored state."
   ]
  },
  {
   "cell_type": "code",
   "execution_count": 333,
   "id": "8f88aaf3-d72a-4b09-8ce9-1f082d2e0149",
   "metadata": {},
   "outputs": [
    {
     "data": {
      "image/png": "[encoded data removed]",
      "text/plain": [
       "<Figure size 432x288 with 1 Axes>"
      ]
     },
     "metadata": {
      "needs_background": "light"
     },
     "output_type": "display_data"
    }
   ],
   "source": [
    "move_down_action = 1\n",
    "env.step(move_down_action)\n",
    "render(env)"
   ]
  },
  {
   "cell_type": "code",
   "execution_count": null,
   "id": "006db55c-10ec-47ce-a9bc-bb4b2300ffe6",
   "metadata": {},
   "outputs": [],
   "source": []
  }
 ],
 "metadata": {
  "kernelspec": {
   "display_name": "Python 3",
   "language": "python",
   "name": "python3"
  },
  "language_info": {
   "codemirror_mode": {
    "name": "ipython",
    "version": 3
   },
   "file_extension": ".py",
   "mimetype": "text/x-python",
   "name": "python",
   "nbconvert_exporter": "python",
   "pygments_lexer": "ipython3",
   "version": "3.8.10"
  }
 },
 "nbformat": 4,
 "nbformat_minor": 5
}
