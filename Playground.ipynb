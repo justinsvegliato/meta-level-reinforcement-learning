{
 "cells": [
  {
   "cell_type": "code",
   "execution_count": 2,
   "id": "c2576541-c4ed-46df-b07a-b57103cbeb45",
   "metadata": {},
   "outputs": [],
   "source": [
    "import reverb"
   ]
  },
  {
   "cell_type": "code",
   "execution_count": 34,
   "id": "19fbe84f-e072-4fb9-a8c4-62f489715d6a",
   "metadata": {},
   "outputs": [],
   "source": [
    "import numpy as np\n",
    "import pandas as pd\n",
    "import random\n",
    "\n",
    "import tensorflow as tf\n",
    "import tf_agents\n",
    "import gym\n",
    "import gym_maze"
   ]
  },
  {
   "cell_type": "code",
   "execution_count": 4,
   "id": "4ec7964e-d9a3-4ce8-81fc-aad2d252d0be",
   "metadata": {},
   "outputs": [],
   "source": [
    "import os\n",
    "os.environ[\"SDL_VIDEODRIVER\"] = \"dummy\""
   ]
  },
  {
   "cell_type": "code",
   "execution_count": 5,
   "id": "0f30dc3b-b2e3-45ab-ad0c-02b355c2f0c3",
   "metadata": {},
   "outputs": [
    {
     "data": {
      "text/plain": [
       "[(1024, 768)]"
      ]
     },
     "execution_count": 5,
     "metadata": {},
     "output_type": "execute_result"
    }
   ],
   "source": [
    "import pygame\n",
    "pygame.init()\n",
    "pygame.display.list_modes()"
   ]
  },
  {
   "cell_type": "code",
   "execution_count": 6,
   "id": "b3333028-1688-4fe6-89b7-69ee10e2cbcd",
   "metadata": {},
   "outputs": [],
   "source": [
    "import matplotlib.pyplot as plt\n",
    "%matplotlib inline\n",
    "\n",
    "import seaborn as sns\n",
    "sns.set()\n",
    "\n",
    "from IPython.display import clear_output\n",
    "import time"
   ]
  },
  {
   "cell_type": "markdown",
   "id": "680a906e-2e50-4812-8153-830ed5aa07d6",
   "metadata": {},
   "source": [
    "## Maze Environment\n",
    "\n",
    "The maze environment implementation we will use is an open source custom OpenAI Gym environment called [Gym-Maze](https://github.com/MattChanTK/gym-maze).\n",
    "\n",
    "> [Gym-Maze is a] simple 2D maze environment where an agent (blue dot) finds its way from the top left corner (blue square) to the goal at the bottom right corner (red square). The objective is to find the shortest path from the start to the goal. The agent may only choose to go up, down, right, or left (\"N\", \"S\", \"E\", \"W\"). If the way is blocked, it will remain at the same the location. The observation space is the (x, y) coordinate of the agent. The top left cell is (0, 0). A reward of 1 is given when the agent reaches the goal. For every step in the maze, the agent recieves a reward of -0.1/(number of cells)."
   ]
  },
  {
   "cell_type": "code",
   "execution_count": 7,
   "id": "b00d138c-1c95-4b0e-afb4-757e9fe68e80",
   "metadata": {},
   "outputs": [],
   "source": [
    "def make_maze_env():\n",
    "    random.seed(0)\n",
    "    env = gym.make(\"maze-random-10x10-plus-v0\")\n",
    "    env.reset()\n",
    "    return env"
   ]
  },
  {
   "cell_type": "code",
   "execution_count": 8,
   "id": "b415875d-bbce-4eba-b2ab-58ae6bacbfa6",
   "metadata": {},
   "outputs": [],
   "source": [
    "env = make_maze_env()"
   ]
  },
  {
   "cell_type": "code",
   "execution_count": 9,
   "id": "3b320250-0ba9-4f57-a2b4-f7a3c3c579a2",
   "metadata": {},
   "outputs": [],
   "source": [
    "img = env.render()"
   ]
  },
  {
   "cell_type": "code",
   "execution_count": 10,
   "id": "d362beb7-ff14-435f-991b-9b044d7b46ac",
   "metadata": {},
   "outputs": [],
   "source": [
    "def dark_mode_maze(img, brighten_darks=30, brighten_mids=50, light_thresh=240, dark_thresh=50):\n",
    "    img_rgb_sum = np.sum(img, axis=-1)\n",
    "    light_region = (img_rgb_sum > light_thresh*3)\n",
    "    light_region = np.repeat(light_region[:, :, np.newaxis], 3, axis=-1)\n",
    "    \n",
    "    dark_region = (img_rgb_sum < dark_thresh*3)\n",
    "    dark_region = np.repeat(dark_region[:, :, np.newaxis], 3, axis=-1)\n",
    "    \n",
    "    other_regions = ~(light_region | dark_region)\n",
    "    \n",
    "    img[light_region] = 255 - img[light_region] + brighten_darks\n",
    "    img[dark_region] = 255 - img[dark_region]\n",
    "    img[other_regions] = img[other_regions] + brighten_mids\n",
    "    \n",
    "    return np.clip(img, 0, 255)\n",
    "\n",
    "def render(env, dark_mode=True, figsize=None, title=None):\n",
    "    img = env.render()\n",
    "    sizes = np.shape(img)\n",
    "\n",
    "    fig = plt.figure(figsize=figsize)\n",
    "    ax = plt.Axes(fig, [0., 0., 1., 1.])\n",
    "    ax.set_axis_off()\n",
    "    fig.add_axes(ax)\n",
    "    \n",
    "    ax.imshow(dark_mode_maze(img) if dark_mode else img)\n",
    "    ax.set_title(title)\n",
    "    \n",
    "    plt.show()"
   ]
  },
  {
   "cell_type": "code",
   "execution_count": 13,
   "id": "150205a6-6c82-4c18-8c88-9d872dea2662",
   "metadata": {},
   "outputs": [
    {
     "data": {
      "image/png": "[encoded data removed]",
      "text/plain": [
       "<Figure size 432x288 with 1 Axes>"
      ]
     },
     "metadata": {},
     "output_type": "display_data"
    }
   ],
   "source": [
    "try:\n",
    "    env.reset()\n",
    "    title = f'Action: None'\n",
    "    while True:\n",
    "        # render\n",
    "        render(env, title=title)\n",
    "        clear_output(wait=True)\n",
    "        time.sleep(0.05)\n",
    "        \n",
    "        # act\n",
    "        random_action = env.action_space.sample()\n",
    "        title = f'Action: {env.ACTION[random_action]}'\n",
    "        env.step(random_action)\n",
    "        \n",
    "except KeyboardInterrupt:\n",
    "    pass"
   ]
  },
  {
   "cell_type": "markdown",
   "id": "e72992fe-461b-455a-8d89-58dec2029da4",
   "metadata": {},
   "source": [
    "## Tracking and Setting States\n",
    "\n",
    "In order to construct a search tree over the environment we need to be able to track and set the object-level states. Each node in a search tree will hold a state that we have explored, but we do not want to constantly copy the entire environment object as most of this will be irrelevant information. In order to perform a node expansion we will set the environment state to the state of the node, perform an action using `env.step`, and create a new child node from the resultant state of the environment.\n",
    "\n",
    "The Gym-Maze environment tracks the state of the robot in the maze with the `env.state` and `env.maze_view._MazeView2D__robot` variables. But we also need to track the `env.steps_beyond_done` and `env.done` variables in order to prevent issues when we use `env.step`. When setting a state we follow the same procedure as `env.reset`, except with our target variables. This procedure can be seen [here in the Gym-Maze source code](https://github.com/MattChanTK/gym-maze/blob/83176811b49b5538a6213520612f44fb1bc49114/gym_maze/envs/maze_env.py#L92)."
   ]
  },
  {
   "cell_type": "markdown",
   "id": "751ebcd0-05e7-4d73-b5a1-5e345d8c96eb",
   "metadata": {},
   "source": [
    "### Creating getters/setters\n",
    "\n",
    "Reseting the environment and taking a random direction"
   ]
  },
  {
   "cell_type": "code",
   "execution_count": 14,
   "id": "d95f7bc4-1b00-4a2b-9a7b-d4b10a2be337",
   "metadata": {},
   "outputs": [],
   "source": [
    "env = make_maze_env()"
   ]
  },
  {
   "cell_type": "code",
   "execution_count": 15,
   "id": "87283a21-6b37-43e1-9732-38892c711931",
   "metadata": {},
   "outputs": [
    {
     "data": {
      "text/plain": [
       "(array([1, 0]), -0.001, False, {})"
      ]
     },
     "execution_count": 15,
     "metadata": {},
     "output_type": "execute_result"
    }
   ],
   "source": [
    "move_right_action = 2\n",
    "env.step(move_right_action)"
   ]
  },
  {
   "cell_type": "code",
   "execution_count": 16,
   "id": "e778321f-7428-4f8b-b82d-a77cae02e856",
   "metadata": {},
   "outputs": [
    {
     "data": {
      "image/png": "[encoded data removed]",
      "text/plain": [
       "<Figure size 432x288 with 1 Axes>"
      ]
     },
     "metadata": {},
     "output_type": "display_data"
    }
   ],
   "source": [
    "render(env)"
   ]
  },
  {
   "cell_type": "markdown",
   "id": "c240fac0-be92-40d9-b882-92fbf0ec0037",
   "metadata": {},
   "source": [
    "Keep note of this state, as it is what we will aim to restore\n",
    "\n",
    "Defining the state getters and setters"
   ]
  },
  {
   "cell_type": "code",
   "execution_count": 154,
   "id": "de07e935-590a-45a0-ae2e-105f64dd4ffa",
   "metadata": {},
   "outputs": [],
   "source": [
    "def get_state(env):\n",
    "    return (np.array(env.state.copy()), env.steps_beyond_done, env.done)\n",
    "\n",
    "\n",
    "def set_state(env, state):    \n",
    "    robot_state, steps_beyond_done, done = state \n",
    "    \n",
    "    env.maze_view._MazeView2D__draw_robot(transparency=0)\n",
    "    env.maze_view._MazeView2D__robot = robot_state\n",
    "    env.maze_view._MazeView2D__draw_robot(transparency=255)\n",
    "    \n",
    "    env.state = robot_state\n",
    "    env.steps_beyond_done = steps_beyond_done\n",
    "    env.done = done"
   ]
  },
  {
   "cell_type": "markdown",
   "id": "635f2884-cd84-4565-890d-9bc251adbbbd",
   "metadata": {},
   "source": [
    "Storing the current state to show the getter work"
   ]
  },
  {
   "cell_type": "code",
   "execution_count": 155,
   "id": "3f2d76c6-f433-4f09-a909-e94a285231af",
   "metadata": {},
   "outputs": [
    {
     "data": {
      "text/plain": [
       "(array([1, 0]), None, False)"
      ]
     },
     "execution_count": 155,
     "metadata": {},
     "output_type": "execute_result"
    }
   ],
   "source": [
    "state = get_state(env)\n",
    "state"
   ]
  },
  {
   "cell_type": "markdown",
   "id": "210d7d22-e91d-46f6-8d00-be3ccdd1ae67",
   "metadata": {},
   "source": [
    "Taking another step to the right."
   ]
  },
  {
   "cell_type": "code",
   "execution_count": 156,
   "id": "a5722bef-f476-4df3-bf02-5d9ee28562dd",
   "metadata": {},
   "outputs": [
    {
     "data": {
      "image/png": "[encoded data removed]",
      "text/plain": [
       "<Figure size 432x288 with 1 Axes>"
      ]
     },
     "metadata": {},
     "output_type": "display_data"
    }
   ],
   "source": [
    "env.step(move_right_action)\n",
    "render(env)"
   ]
  },
  {
   "cell_type": "markdown",
   "id": "785eda3c-eb3e-4b76-9a93-770b7e7c30f0",
   "metadata": {},
   "source": [
    "Seeing that the `set_state` function correctly restores the original state before the second step."
   ]
  },
  {
   "cell_type": "code",
   "execution_count": 157,
   "id": "d5968c8d-971d-4658-89a6-8c03b84c95cb",
   "metadata": {},
   "outputs": [
    {
     "data": {
      "image/png": "[encoded data removed]",
      "text/plain": [
       "<Figure size 432x288 with 1 Axes>"
      ]
     },
     "metadata": {},
     "output_type": "display_data"
    }
   ],
   "source": [
    "set_state(env, state)\n",
    "render(env)"
   ]
  },
  {
   "cell_type": "markdown",
   "id": "e4d73a6e-1b27-4950-a184-3e8897729f85",
   "metadata": {},
   "source": [
    "Move down from the restored state."
   ]
  },
  {
   "cell_type": "code",
   "execution_count": 158,
   "id": "8f88aaf3-d72a-4b09-8ce9-1f082d2e0149",
   "metadata": {},
   "outputs": [
    {
     "data": {
      "image/png": "[encoded data removed]",
      "text/plain": [
       "<Figure size 432x288 with 1 Axes>"
      ]
     },
     "metadata": {},
     "output_type": "display_data"
    }
   ],
   "source": [
    "move_down_action = 1\n",
    "env.step(move_down_action)\n",
    "render(env)"
   ]
  },
  {
   "cell_type": "markdown",
   "id": "c259eac6-f62b-45a0-9380-ab77f77019e5",
   "metadata": {},
   "source": [
    "## Search Tree Representation"
   ]
  },
  {
   "cell_type": "code",
   "execution_count": 17,
   "id": "3007ae38-e9ef-4399-b6c6-feefcba582a4",
   "metadata": {},
   "outputs": [],
   "source": [
    "from abc import ABC, abstractmethod\n",
    "from typing import Callable, Any, List, Tuple, Dict\n",
    "from collections import defaultdict\n",
    "\n",
    "\n",
    "class ObjectState(ABC):\n",
    "    \n",
    "    @staticmethod\n",
    "    @abstractmethod\n",
    "    def extract_state(env: gym.Env) -> 'ObjectState':\n",
    "        pass\n",
    "    \n",
    "    @abstractmethod\n",
    "    def set_environment_to_state(self, env: gym.Env):\n",
    "        pass\n",
    "    \n",
    "    @abstractmethod\n",
    "    def get_state_vector(self) -> np.array:\n",
    "        pass\n",
    "\n",
    "\n",
    "class SearchTreeNode:\n",
    "    __slots__ = ['state', 'action', 'reward', 'children']\n",
    "    \n",
    "    def __init__(self, state: ObjectState, action: int, reward: float):\n",
    "        self.state = state\n",
    "        self.action = action\n",
    "        self.reward = reward\n",
    "        self.children: Dict[int, List['SearchTreeNode']] = defaultdict(list)\n",
    "        \n",
    "    def get_children(self) -> Dict[int, List['SearchTreeNode']]:\n",
    "        return self.children\n",
    "        \n",
    "    def expand_node(self, env: gym.Env, action: int) -> 'SearchTreeNode':\n",
    "        self.state.set_environment_to_state(env) \n",
    "            \n",
    "        obs, reward, *_ = env.step(action)\n",
    "        next_state: ObjectState = self.state.extract_state(env)\n",
    "        \n",
    "        child_node = SearchTreeNode(next_state, action, reward)\n",
    "        self.children[action].append(child_node)\n",
    "        return child_node\n",
    "    \n",
    "    def get_trajectory(self) -> Tuple[int, float, ObjectState]:\n",
    "        return (self.action, self.reward, self.state)\n",
    "\n",
    "    def __repr__(self) -> str:\n",
    "        return f'action={self.action}, reward={self.reward}, state={self.state}, children={self.children}'\n",
    "\n",
    "\n",
    "class SearchTree:\n",
    "    \n",
    "    def __init__(self, env: gym.Env, extract_state: Callable):\n",
    "        self.env = env\n",
    "        \n",
    "        self.root_node: SearchTreeNode = SearchTreeNode(extract_state(env), None, 0)\n",
    "        self.node_list: List[SearchTreeNode] = [self.root_node]\n",
    "    \n",
    "    def expand(self, node_idx: int, action: int):\n",
    "        node = self.node_list[node_idx]\n",
    "        child_node = node.expand_node(self.env, action)\n",
    "        self.node_list.append(child_node)\n",
    "        \n",
    "    def get_nodes(self) -> List[SearchTreeNode]:\n",
    "        return self.node_list\n",
    "    \n",
    "    def get_root(self) -> SearchTreeNode:\n",
    "        return self.root_node\n",
    "    \n",
    "    def __repr__(self) -> str:\n",
    "        return str(self.root_node)"
   ]
  },
  {
   "cell_type": "code",
   "execution_count": 18,
   "id": "ba2ceb92-8941-4fa9-b68a-c9409e5c96d2",
   "metadata": {},
   "outputs": [],
   "source": [
    "class MazeState(ObjectState):\n",
    "    __slots__ = ['state_vec', 'gym_state']\n",
    "    \n",
    "    @staticmethod\n",
    "    def extract_state(env: gym_maze.envs.maze_env.MazeEnv) -> 'MazeState':    \n",
    "        state_vec = np.array(env.maze_view._MazeView2D__robot.copy(), dtype=np.int32)\n",
    "        gym_state = (state_vec, env.steps_beyond_done, env.done)\n",
    "        return MazeState(state_vec, gym_state)\n",
    "    \n",
    "    def __init__(self, state_vec: np.array, gym_state: tuple):\n",
    "        self.state_vec = state_vec\n",
    "        self.gym_state = gym_state\n",
    "    \n",
    "    def set_environment_to_state(self, env: gym_maze.envs.maze_env.MazeEnv):\n",
    "        robot_pos, steps_beyond_done, done = self.gym_state \n",
    "\n",
    "        env.maze_view._MazeView2D__draw_robot(transparency=0)\n",
    "        env.maze_view._MazeView2D__robot = robot_pos.copy()\n",
    "        env.maze_view._MazeView2D__draw_robot(transparency=255)\n",
    "\n",
    "        env.state = robot_pos.copy()\n",
    "        env.steps_beyond_done = steps_beyond_done\n",
    "        env.done = done\n",
    "        \n",
    "    def get_state_vector(self) -> np.array:\n",
    "        return self.state_vec\n",
    "    \n",
    "    def __repr__(self) -> str:\n",
    "        return str(tuple(map(int, self.state_vec)))"
   ]
  },
  {
   "cell_type": "code",
   "execution_count": 25,
   "id": "50c127fb-43ac-4fcd-8b2e-6bdbb23327a5",
   "metadata": {},
   "outputs": [
    {
     "data": {
      "text/plain": [
       "array([0, 0], dtype=int32)"
      ]
     },
     "execution_count": 25,
     "metadata": {},
     "output_type": "execute_result"
    }
   ],
   "source": [
    "maze_state = MazeState.extract_state(env)\n",
    "maze_state.get_state_vector()"
   ]
  },
  {
   "cell_type": "code",
   "execution_count": 26,
   "id": "d5d8a783-468b-4332-a3f5-c748f0473636",
   "metadata": {},
   "outputs": [
    {
     "data": {
      "text/plain": [
       "action=None, reward=0, state=(0, 0), children=defaultdict(<class 'list'>, {})"
      ]
     },
     "execution_count": 26,
     "metadata": {},
     "output_type": "execute_result"
    }
   ],
   "source": [
    "env = make_maze_env()\n",
    "\n",
    "search_tree = SearchTree(env, MazeState.extract_state)\n",
    "search_tree"
   ]
  },
  {
   "cell_type": "code",
   "execution_count": 27,
   "id": "2c1bec6b-a238-40ca-b742-a296da9e05f9",
   "metadata": {},
   "outputs": [
    {
     "data": {
      "image/png": "[encoded data removed]",
      "text/plain": [
       "<Figure size 432x288 with 1 Axes>"
      ]
     },
     "metadata": {},
     "output_type": "display_data"
    }
   ],
   "source": [
    "render(env)"
   ]
  },
  {
   "cell_type": "code",
   "execution_count": 23,
   "id": "e9310718-b04e-4d1c-8bb7-b60b079c07b6",
   "metadata": {},
   "outputs": [],
   "source": [
    "import random\n",
    "random.seed(0)\n",
    "\n",
    "N = 50\n",
    "for i in range(N):\n",
    "    node = random.choice(list(range(len(search_tree.get_nodes()))))\n",
    "    action = random.randint(0, env.action_space.n - 1)\n",
    "    if N <= 10:\n",
    "        print(f'Expanding {search_tree.get_nodes()[node].state} with action {env.ACTION[action]}')\n",
    "    search_tree.expand(node, action)"
   ]
  },
  {
   "cell_type": "code",
   "execution_count": 24,
   "id": "e6850a93-ab1c-4b20-891f-0de8eb52b285",
   "metadata": {},
   "outputs": [],
   "source": [
    "import networkx as nx\n",
    "\n",
    "def construct_tree(tree: nx.DiGraph, node: SearchTreeNode):\n",
    "    tree.add_node(hash(node), state=str(node.state))\n",
    "    for action, children in node.get_children().items():\n",
    "        for child in children:\n",
    "            construct_tree(tree, child)\n",
    "            tree.add_edge(hash(node), hash(child), action=env.ACTION[action])\n",
    "\n",
    "\n",
    "nx_tree = nx.DiGraph()\n",
    "construct_tree(nx_tree, search_tree.get_root())"
   ]
  },
  {
   "cell_type": "code",
   "execution_count": 25,
   "id": "2d71ba11-2728-4dee-a8f0-56c0a8a504da",
   "metadata": {},
   "outputs": [],
   "source": [
    "from mlrl.utils import hierarchy_pos_large_tree"
   ]
  },
  {
   "cell_type": "code",
   "execution_count": 26,
   "id": "77c8f592-3d3d-499a-a02e-064cb366054b",
   "metadata": {},
   "outputs": [
    {
     "data": {
      "image/png": "[encoded data removed]",
      "text/plain": [
       "<Figure size 1440x1440 with 1 Axes>"
      ]
     },
     "metadata": {},
     "output_type": "display_data"
    }
   ],
   "source": [
    "from networkx.drawing.nx_pydot import graphviz_layout\n",
    "\n",
    "pos = hierarchy_pos_large_tree(nx_tree, hash(search_tree.get_root()), width=250, height=250)\n",
    "edge_labels = {\n",
    "    (n1, n2): data['action'] \n",
    "    for n1, n2, data in nx_tree.edges(data=True)\n",
    "}\n",
    "node_labels = {\n",
    "    node: nx_tree.nodes.get(node)['state'] for node in nx_tree.nodes()\n",
    "}\n",
    "\n",
    "fig = plt.figure(figsize=(20, 20))\n",
    "ax = fig.add_subplot()\n",
    "\n",
    "nx.draw(nx_tree, pos, node_size=1800, ax=ax)\n",
    "\n",
    "nx.draw_networkx_edge_labels(nx_tree, pos, edge_labels=edge_labels, ax=ax)\n",
    "nx.draw_networkx_labels(nx_tree, pos, labels=node_labels, ax=ax, font_color='white')\n",
    "plt.axis('off')\n",
    "axis = plt.gca()\n",
    "zoom = 10\n",
    "axis.set_xlim([axis.get_xlim()[0] - zoom, axis.get_xlim()[1] + zoom])\n",
    "axis.set_ylim([axis.get_ylim()[0] - zoom, axis.get_ylim()[1] + zoom])\n",
    "# plt.tight_layout()\n",
    "plt.show()"
   ]
  },
  {
   "cell_type": "markdown",
   "id": "78927233-435c-4b62-9b3b-4fe96bb1a5ed",
   "metadata": {},
   "source": [
    "## Training Q-agent"
   ]
  },
  {
   "cell_type": "code",
   "execution_count": 28,
   "id": "f3359e08-b7a8-4b03-a19b-ec6e6d4b670c",
   "metadata": {},
   "outputs": [],
   "source": [
    "num_iterations = 20000 # @param {type:\"integer\"}\n",
    "\n",
    "initial_collect_steps = 100  # @param {type:\"integer\"}\n",
    "collect_steps_per_iteration =   1# @param {type:\"integer\"}\n",
    "replay_buffer_max_length = 100000  # @param {type:\"integer\"}\n",
    "\n",
    "batch_size = 64  # @param {type:\"integer\"}\n",
    "learning_rate = 1e-3  # @param {type:\"number\"}\n",
    "log_interval = 200  # @param {type:\"integer\"}\n",
    "\n",
    "num_eval_episodes = 10  # @param {type:\"integer\"}\n",
    "eval_interval = 1000  # @param {type:\"integer\"}\n",
    "\n",
    "num_actions = env.action_space.n"
   ]
  },
  {
   "cell_type": "code",
   "execution_count": 29,
   "id": "1272457a-df19-4312-abfa-c83c7839a7ad",
   "metadata": {},
   "outputs": [],
   "source": [
    "from tf_agents.agents.dqn import dqn_agent\n",
    "from tf_agents.drivers import py_driver\n",
    "from tf_agents.environments import suite_gym\n",
    "from tf_agents.environments import tf_py_environment\n",
    "from tf_agents.eval import metric_utils\n",
    "from tf_agents.metrics import tf_metrics\n",
    "from tf_agents.networks import sequential\n",
    "from tf_agents.policies import py_tf_eager_policy\n",
    "from tf_agents.policies import random_tf_policy\n",
    "from tf_agents.replay_buffers import reverb_replay_buffer\n",
    "from tf_agents.replay_buffers import reverb_utils\n",
    "from tf_agents.trajectories import trajectory\n",
    "from tf_agents.specs import tensor_spec\n",
    "from tf_agents.utils import common"
   ]
  },
  {
   "cell_type": "code",
   "execution_count": 30,
   "id": "6ede1104-06c9-4c84-abb3-99cb50da61e2",
   "metadata": {},
   "outputs": [],
   "source": [
    "def build_model(obs_shape, num_actions):\n",
    "    model = tf.keras.Sequential()    \n",
    "    model.add(tf.keras.layers.Dense(24, activation='relu', input_shape=obs_shape))\n",
    "    model.add(tf.keras.layers.Dense(24, activation='relu'))\n",
    "    model.add(tf.keras.layers.Dense(num_actions, activation='linear'))\n",
    "    return model"
   ]
  },
  {
   "cell_type": "code",
   "execution_count": 43,
   "id": "3a0d8bab-7019-4ddd-8405-d820ac76e025",
   "metadata": {},
   "outputs": [
    {
     "data": {
      "text/plain": [
       "\u001b[0;31mInit signature:\u001b[0m\n",
       "\u001b[0mtf_agents\u001b[0m\u001b[0;34m.\u001b[0m\u001b[0menvironments\u001b[0m\u001b[0;34m.\u001b[0m\u001b[0mBatchedPyEnvironment\u001b[0m\u001b[0;34m(\u001b[0m\u001b[0;34m\u001b[0m\n",
       "\u001b[0;34m\u001b[0m    \u001b[0menvs\u001b[0m\u001b[0;34m:\u001b[0m \u001b[0mSequence\u001b[0m\u001b[0;34m[\u001b[0m\u001b[0mtf_agents\u001b[0m\u001b[0;34m.\u001b[0m\u001b[0menvironments\u001b[0m\u001b[0;34m.\u001b[0m\u001b[0mpy_environment\u001b[0m\u001b[0;34m.\u001b[0m\u001b[0mPyEnvironment\u001b[0m\u001b[0;34m]\u001b[0m\u001b[0;34m,\u001b[0m\u001b[0;34m\u001b[0m\n",
       "\u001b[0;34m\u001b[0m    \u001b[0mmultithreading\u001b[0m\u001b[0;34m:\u001b[0m \u001b[0mbool\u001b[0m \u001b[0;34m=\u001b[0m \u001b[0;32mTrue\u001b[0m\u001b[0;34m,\u001b[0m\u001b[0;34m\u001b[0m\n",
       "\u001b[0;34m\u001b[0m\u001b[0;34m)\u001b[0m\u001b[0;34m\u001b[0m\u001b[0;34m\u001b[0m\u001b[0m\n",
       "\u001b[0;31mDocstring:\u001b[0m     \n",
       "Batch together multiple py environments and act as a single batch.\n",
       "\n",
       "The environments should only access shared python variables using\n",
       "shared mutex locks (from the threading module).\n",
       "\u001b[0;31mInit docstring:\u001b[0m\n",
       "Batch together multiple (non-batched) py environments.\n",
       "\n",
       "The environments can be different but must use the same action and\n",
       "observation specs.\n",
       "\n",
       "Args:\n",
       "  envs: List python environments (must be non-batched).\n",
       "  multithreading: Python bool describing whether interactions with the\n",
       "    given environments should happen in their own threadpool.  If `False`,\n",
       "    then all interaction is performed serially in the current thread.\n",
       "\n",
       "    This may be combined with wrapper `TFPyEnvironment(..., isolation=True)`\n",
       "    to ensure that multiple environments are all run in the same thread.\n",
       "\n",
       "Raises:\n",
       "  ValueError: If envs is not a list or tuple, or is zero length, or if\n",
       "    one of the envs is already batched.\n",
       "  ValueError: If the action or observation specs don't match.\n",
       "\u001b[0;31mFile:\u001b[0m           /usr/local/lib/python3.8/dist-packages/tf_agents/environments/batched_py_environment.py\n",
       "\u001b[0;31mType:\u001b[0m           ABCMeta\n",
       "\u001b[0;31mSubclasses:\u001b[0m     \n"
      ]
     },
     "metadata": {},
     "output_type": "display_data"
    }
   ],
   "source": [
    "tf_agents.environments.BatchedPyEnvironment?"
   ]
  },
  {
   "cell_type": "code",
   "execution_count": 31,
   "id": "c8676d44-f929-4471-975a-c1d6ba7beb1d",
   "metadata": {},
   "outputs": [],
   "source": [
    "tf_env = tf_py_environment.TFPyEnvironment(tf_agents.environments.gym_wrapper.GymWrapper(env))"
   ]
  },
  {
   "cell_type": "code",
   "execution_count": 35,
   "id": "bc797334-68ce-44a6-9e50-e6da355d8fd2",
   "metadata": {},
   "outputs": [],
   "source": [
    "fc_layer_params = (100, 50)\n",
    "action_tensor_spec = tensor_spec.from_spec(tf_env.action_spec())\n",
    "num_actions = action_tensor_spec.maximum - action_tensor_spec.minimum + 1\n",
    "\n",
    "# Define a helper function to create Dense layers configured with the right\n",
    "# activation and kernel initializer.\n",
    "def dense_layer(num_units):\n",
    "    return tf.keras.layers.Dense(\n",
    "      num_units,\n",
    "      activation=tf.keras.activations.relu,\n",
    "      kernel_initializer=tf.keras.initializers.VarianceScaling(\n",
    "          scale=2.0, mode='fan_in', distribution='truncated_normal'))\n",
    "\n",
    "# QNetwork consists of a sequence of Dense layers followed by a dense layer\n",
    "# with `num_actions` units to generate one q_value per available action as\n",
    "# its output.\n",
    "dense_layers = [dense_layer(num_units) for num_units in fc_layer_params]\n",
    "q_values_layer = tf.keras.layers.Dense(\n",
    "    num_actions,\n",
    "    activation=None,\n",
    "    kernel_initializer=tf.keras.initializers.RandomUniform(\n",
    "        minval=-0.03, maxval=0.03),\n",
    "    bias_initializer=tf.keras.initializers.Constant(-0.2))\n",
    "q_net = sequential.Sequential(dense_layers + [q_values_layer])"
   ]
  },
  {
   "cell_type": "code",
   "execution_count": 36,
   "id": "6b5b3914-f882-47f1-9bfd-7c515a517a28",
   "metadata": {},
   "outputs": [
    {
     "name": "stdout",
     "output_type": "stream",
     "text": [
      "TimeStep Specs: TimeStep(\n",
      "{'discount': BoundedTensorSpec(shape=(), dtype=tf.float32, name='discount', minimum=array(0., dtype=float32), maximum=array(1., dtype=float32)),\n",
      " 'observation': BoundedTensorSpec(shape=(2,), dtype=tf.int64, name='observation', minimum=array(0), maximum=array(9)),\n",
      " 'reward': TensorSpec(shape=(), dtype=tf.float32, name='reward'),\n",
      " 'step_type': TensorSpec(shape=(), dtype=tf.int32, name='step_type')})\n",
      "Action Specs: BoundedTensorSpec(shape=(), dtype=tf.int64, name='action', minimum=array(0), maximum=array(3))\n"
     ]
    }
   ],
   "source": [
    "print(\"TimeStep Specs:\", tf_env.time_step_spec())\n",
    "print(\"Action Specs:\", tf_env.action_spec())"
   ]
  },
  {
   "cell_type": "code",
   "execution_count": 37,
   "id": "1adb5b26-4041-46a1-8b05-2c9e52460530",
   "metadata": {},
   "outputs": [],
   "source": [
    "optimizer = tf.keras.optimizers.Adam(learning_rate=learning_rate)\n",
    "\n",
    "train_step_counter = tf.Variable(0)\n",
    "\n",
    "agent = dqn_agent.DqnAgent(\n",
    "    tf_env.time_step_spec(),\n",
    "    tf_env.action_spec(),\n",
    "    q_network=q_net,\n",
    "    optimizer=optimizer,\n",
    "    td_errors_loss_fn=common.element_wise_squared_loss,\n",
    "    train_step_counter=train_step_counter)\n",
    "\n",
    "agent.initialize()"
   ]
  },
  {
   "cell_type": "code",
   "execution_count": 38,
   "id": "0a70dbb0-524d-40f7-a03b-4abd9d20f443",
   "metadata": {},
   "outputs": [],
   "source": [
    "random_policy = random_tf_policy.RandomTFPolicy(tf_env.time_step_spec(),\n",
    "                                                tf_env.action_spec())"
   ]
  },
  {
   "cell_type": "code",
   "execution_count": 39,
   "id": "13a95014-4eae-4a15-910b-3747020a68b1",
   "metadata": {},
   "outputs": [],
   "source": [
    "def compute_avg_return(environment, policy, num_episodes=10):\n",
    "\n",
    "    total_return = 0.0\n",
    "    for _ in range(num_episodes):\n",
    "\n",
    "        time_step = environment.reset()\n",
    "        episode_return = 0.0\n",
    "\n",
    "        while not time_step.is_last():\n",
    "            action_step = policy.action(time_step)\n",
    "            time_step = environment.step(action_step.action)\n",
    "            episode_return += time_step.reward\n",
    "        total_return += episode_return\n",
    "\n",
    "    avg_return = total_return / num_episodes\n",
    "    return avg_return.numpy()[0]"
   ]
  },
  {
   "cell_type": "code",
   "execution_count": 55,
   "id": "d9a34b6e-3cff-4343-830b-80adc5dd36b6",
   "metadata": {},
   "outputs": [
    {
     "data": {
      "text/plain": [
       "0.38000032"
      ]
     },
     "execution_count": 55,
     "metadata": {},
     "output_type": "execute_result"
    }
   ],
   "source": [
    "compute_avg_return(tf_env, random_policy, num_eval_episodes)"
   ]
  },
  {
   "cell_type": "code",
   "execution_count": null,
   "id": "dad227e2-25f3-40ea-b2c4-c2f658806c82",
   "metadata": {},
   "outputs": [],
   "source": [
    "compute_avg_return(tf_env, agent.policy, 1)"
   ]
  },
  {
   "cell_type": "code",
   "execution_count": 56,
   "id": "43984604-d244-462e-8f8a-59ffe56ae728",
   "metadata": {},
   "outputs": [],
   "source": [
    "import reverb\n",
    "\n",
    "table_name = 'uniform_table'\n",
    "replay_buffer_signature = tensor_spec.from_spec(\n",
    "      agent.collect_data_spec)\n",
    "replay_buffer_signature = tensor_spec.add_outer_dim(\n",
    "    replay_buffer_signature)\n",
    "\n",
    "table = reverb.Table(\n",
    "    table_name,\n",
    "    max_size=replay_buffer_max_length,\n",
    "    sampler=reverb.selectors.Uniform(),\n",
    "    remover=reverb.selectors.Fifo(),\n",
    "    rate_limiter=reverb.rate_limiters.MinSize(1),\n",
    "    signature=replay_buffer_signature)\n",
    "\n",
    "reverb_server = reverb.Server([table])\n",
    "\n",
    "replay_buffer = reverb_replay_buffer.ReverbReplayBuffer(\n",
    "    agent.collect_data_spec,\n",
    "    table_name=table_name,\n",
    "    sequence_length=2,\n",
    "    local_server=reverb_server)\n",
    "\n",
    "rb_observer = reverb_utils.ReverbAddTrajectoryObserver(\n",
    "  replay_buffer.py_client,\n",
    "  table_name,\n",
    "  sequence_length=2)"
   ]
  },
  {
   "cell_type": "code",
   "execution_count": 57,
   "id": "253ca540-d175-4ba9-94a8-9a7791e38d07",
   "metadata": {},
   "outputs": [],
   "source": [
    "# dataset = replay_buffer.as_dataset(\n",
    "#     num_parallel_calls=3,\n",
    "#     sample_batch_size=batch_size,\n",
    "#     num_steps=2).prefetch(3)\n",
    "\n",
    "# dataset"
   ]
  },
  {
   "cell_type": "code",
   "execution_count": 59,
   "id": "5d9b16e2-04c4-4e1b-9160-48725495a487",
   "metadata": {},
   "outputs": [
    {
     "ename": "NameError",
     "evalue": "name 'collect_driver' is not defined",
     "output_type": "error",
     "traceback": [
      "\u001b[0;31m---------------------------------------------------------------------------\u001b[0m",
      "\u001b[0;31mNameError\u001b[0m                                 Traceback (most recent call last)",
      "Input \u001b[0;32mIn [59]\u001b[0m, in \u001b[0;36m<cell line: 1>\u001b[0;34m()\u001b[0m\n\u001b[0;32m----> 1\u001b[0m \u001b[43mcollect_driver\u001b[49m\n",
      "\u001b[0;31mNameError\u001b[0m: name 'collect_driver' is not defined"
     ]
    }
   ],
   "source": [
    "collect_driver"
   ]
  },
  {
   "cell_type": "code",
   "execution_count": 58,
   "id": "5fc8a9f0-c77b-4609-ab2f-e5ea099c795e",
   "metadata": {},
   "outputs": [
    {
     "data": {
      "text/plain": [
       "array([0., 0.])"
      ]
     },
     "execution_count": 58,
     "metadata": {},
     "output_type": "execute_result"
    }
   ],
   "source": [
    "env.reset()"
   ]
  },
  {
   "cell_type": "code",
   "execution_count": 53,
   "id": "f1783a42-de65-48cc-9cf0-73770dd069a4",
   "metadata": {},
   "outputs": [
    {
     "ename": "KeyboardInterrupt",
     "evalue": "",
     "output_type": "error",
     "traceback": [
      "\u001b[0;31m---------------------------------------------------------------------------\u001b[0m",
      "\u001b[0;31mKeyboardInterrupt\u001b[0m                         Traceback (most recent call last)",
      "Input \u001b[0;32mIn [53]\u001b[0m, in \u001b[0;36m<cell line: 13>\u001b[0;34m()\u001b[0m\n\u001b[1;32m     10\u001b[0m agent\u001b[38;5;241m.\u001b[39mtrain_step_counter\u001b[38;5;241m.\u001b[39massign(\u001b[38;5;241m0\u001b[39m)\n\u001b[1;32m     12\u001b[0m \u001b[38;5;66;03m# Evaluate the agent's policy once before training.\u001b[39;00m\n\u001b[0;32m---> 13\u001b[0m avg_return \u001b[38;5;241m=\u001b[39m \u001b[43mcompute_avg_return\u001b[49m\u001b[43m(\u001b[49m\u001b[43mtf_env\u001b[49m\u001b[43m,\u001b[49m\u001b[43m \u001b[49m\u001b[43magent\u001b[49m\u001b[38;5;241;43m.\u001b[39;49m\u001b[43mpolicy\u001b[49m\u001b[43m,\u001b[49m\u001b[43m \u001b[49m\u001b[43mnum_eval_episodes\u001b[49m\u001b[43m)\u001b[49m\n\u001b[1;32m     14\u001b[0m returns \u001b[38;5;241m=\u001b[39m [avg_return]\n\u001b[1;32m     16\u001b[0m \u001b[38;5;66;03m# Reset the environment.\u001b[39;00m\n",
      "Input \u001b[0;32mIn [39]\u001b[0m, in \u001b[0;36mcompute_avg_return\u001b[0;34m(environment, policy, num_episodes)\u001b[0m\n\u001b[1;32m      6\u001b[0m time_step \u001b[38;5;241m=\u001b[39m environment\u001b[38;5;241m.\u001b[39mreset()\n\u001b[1;32m      7\u001b[0m episode_return \u001b[38;5;241m=\u001b[39m \u001b[38;5;241m0.0\u001b[39m\n\u001b[0;32m----> 9\u001b[0m \u001b[38;5;28;01mwhile\u001b[39;00m \u001b[38;5;129;01mnot\u001b[39;00m \u001b[43mtime_step\u001b[49m\u001b[38;5;241;43m.\u001b[39;49m\u001b[43mis_last\u001b[49m\u001b[43m(\u001b[49m\u001b[43m)\u001b[49m:\n\u001b[1;32m     10\u001b[0m     action_step \u001b[38;5;241m=\u001b[39m policy\u001b[38;5;241m.\u001b[39maction(time_step)\n\u001b[1;32m     11\u001b[0m     time_step \u001b[38;5;241m=\u001b[39m environment\u001b[38;5;241m.\u001b[39mstep(action_step\u001b[38;5;241m.\u001b[39maction)\n",
      "File \u001b[0;32m/usr/local/lib/python3.8/dist-packages/tf_agents/trajectories/time_step.py:89\u001b[0m, in \u001b[0;36mTimeStep.is_last\u001b[0;34m(self)\u001b[0m\n\u001b[1;32m     87\u001b[0m \u001b[38;5;28;01mdef\u001b[39;00m \u001b[38;5;21mis_last\u001b[39m(\u001b[38;5;28mself\u001b[39m) \u001b[38;5;241m-\u001b[39m\u001b[38;5;241m>\u001b[39m types\u001b[38;5;241m.\u001b[39mBool:\n\u001b[1;32m     88\u001b[0m   \u001b[38;5;28;01mif\u001b[39;00m tf\u001b[38;5;241m.\u001b[39mis_tensor(\u001b[38;5;28mself\u001b[39m\u001b[38;5;241m.\u001b[39mstep_type):\n\u001b[0;32m---> 89\u001b[0m     \u001b[38;5;28;01mreturn\u001b[39;00m \u001b[43mtf\u001b[49m\u001b[38;5;241;43m.\u001b[39;49m\u001b[43mequal\u001b[49m\u001b[43m(\u001b[49m\u001b[38;5;28;43mself\u001b[39;49m\u001b[38;5;241;43m.\u001b[39;49m\u001b[43mstep_type\u001b[49m\u001b[43m,\u001b[49m\u001b[43m \u001b[49m\u001b[43mStepType\u001b[49m\u001b[38;5;241;43m.\u001b[39;49m\u001b[43mLAST\u001b[49m\u001b[43m)\u001b[49m\n\u001b[1;32m     90\u001b[0m   \u001b[38;5;28;01mreturn\u001b[39;00m np\u001b[38;5;241m.\u001b[39mequal(\u001b[38;5;28mself\u001b[39m\u001b[38;5;241m.\u001b[39mstep_type, StepType\u001b[38;5;241m.\u001b[39mLAST)\n",
      "File \u001b[0;32m/usr/local/lib/python3.8/dist-packages/tensorflow/python/util/traceback_utils.py:150\u001b[0m, in \u001b[0;36mfilter_traceback.<locals>.error_handler\u001b[0;34m(*args, **kwargs)\u001b[0m\n\u001b[1;32m    148\u001b[0m filtered_tb \u001b[38;5;241m=\u001b[39m \u001b[38;5;28;01mNone\u001b[39;00m\n\u001b[1;32m    149\u001b[0m \u001b[38;5;28;01mtry\u001b[39;00m:\n\u001b[0;32m--> 150\u001b[0m   \u001b[38;5;28;01mreturn\u001b[39;00m \u001b[43mfn\u001b[49m\u001b[43m(\u001b[49m\u001b[38;5;241;43m*\u001b[39;49m\u001b[43margs\u001b[49m\u001b[43m,\u001b[49m\u001b[43m \u001b[49m\u001b[38;5;241;43m*\u001b[39;49m\u001b[38;5;241;43m*\u001b[39;49m\u001b[43mkwargs\u001b[49m\u001b[43m)\u001b[49m\n\u001b[1;32m    151\u001b[0m \u001b[38;5;28;01mexcept\u001b[39;00m \u001b[38;5;167;01mException\u001b[39;00m \u001b[38;5;28;01mas\u001b[39;00m e:\n\u001b[1;32m    152\u001b[0m   filtered_tb \u001b[38;5;241m=\u001b[39m _process_traceback_frames(e\u001b[38;5;241m.\u001b[39m__traceback__)\n",
      "File \u001b[0;32m/usr/local/lib/python3.8/dist-packages/tensorflow/python/util/dispatch.py:1176\u001b[0m, in \u001b[0;36madd_dispatch_support.<locals>.decorator.<locals>.op_dispatch_handler\u001b[0;34m(*args, **kwargs)\u001b[0m\n\u001b[1;32m   1174\u001b[0m \u001b[38;5;66;03m# Fallback dispatch system (dispatch v1):\u001b[39;00m\n\u001b[1;32m   1175\u001b[0m \u001b[38;5;28;01mtry\u001b[39;00m:\n\u001b[0;32m-> 1176\u001b[0m   \u001b[38;5;28;01mreturn\u001b[39;00m \u001b[43mdispatch_target\u001b[49m\u001b[43m(\u001b[49m\u001b[38;5;241;43m*\u001b[39;49m\u001b[43margs\u001b[49m\u001b[43m,\u001b[49m\u001b[43m \u001b[49m\u001b[38;5;241;43m*\u001b[39;49m\u001b[38;5;241;43m*\u001b[39;49m\u001b[43mkwargs\u001b[49m\u001b[43m)\u001b[49m\n\u001b[1;32m   1177\u001b[0m \u001b[38;5;28;01mexcept\u001b[39;00m (\u001b[38;5;167;01mTypeError\u001b[39;00m, \u001b[38;5;167;01mValueError\u001b[39;00m):\n\u001b[1;32m   1178\u001b[0m   \u001b[38;5;66;03m# Note: convert_to_eager_tensor currently raises a ValueError, not a\u001b[39;00m\n\u001b[1;32m   1179\u001b[0m   \u001b[38;5;66;03m# TypeError, when given unexpected types.  So we need to catch both.\u001b[39;00m\n\u001b[1;32m   1180\u001b[0m   result \u001b[38;5;241m=\u001b[39m dispatch(op_dispatch_handler, args, kwargs)\n",
      "File \u001b[0;32m/usr/local/lib/python3.8/dist-packages/tensorflow/python/ops/math_ops.py:1923\u001b[0m, in \u001b[0;36mequal\u001b[0;34m(x, y, name)\u001b[0m\n\u001b[1;32m   1889\u001b[0m \u001b[38;5;129m@tf_export\u001b[39m(\u001b[38;5;124m\"\u001b[39m\u001b[38;5;124mmath.equal\u001b[39m\u001b[38;5;124m\"\u001b[39m, \u001b[38;5;124m\"\u001b[39m\u001b[38;5;124mequal\u001b[39m\u001b[38;5;124m\"\u001b[39m)\n\u001b[1;32m   1890\u001b[0m \u001b[38;5;129m@dispatch\u001b[39m\u001b[38;5;241m.\u001b[39mregister_binary_elementwise_api\n\u001b[1;32m   1891\u001b[0m \u001b[38;5;129m@dispatch\u001b[39m\u001b[38;5;241m.\u001b[39madd_dispatch_support\n\u001b[1;32m   1892\u001b[0m \u001b[38;5;28;01mdef\u001b[39;00m \u001b[38;5;21mequal\u001b[39m(x, y, name\u001b[38;5;241m=\u001b[39m\u001b[38;5;28;01mNone\u001b[39;00m):\n\u001b[1;32m   1893\u001b[0m   \u001b[38;5;124;03m\"\"\"Returns the truth value of (x == y) element-wise.\u001b[39;00m\n\u001b[1;32m   1894\u001b[0m \n\u001b[1;32m   1895\u001b[0m \u001b[38;5;124;03m  Performs a [broadcast](\u001b[39;00m\n\u001b[0;32m   (...)\u001b[0m\n\u001b[1;32m   1921\u001b[0m \u001b[38;5;124;03m    `tf.errors.InvalidArgumentError`: If shapes of arguments are incompatible\u001b[39;00m\n\u001b[1;32m   1922\u001b[0m \u001b[38;5;124;03m  \"\"\"\u001b[39;00m\n\u001b[0;32m-> 1923\u001b[0m   \u001b[38;5;28;01mreturn\u001b[39;00m \u001b[43mgen_math_ops\u001b[49m\u001b[38;5;241;43m.\u001b[39;49m\u001b[43mequal\u001b[49m\u001b[43m(\u001b[49m\u001b[43mx\u001b[49m\u001b[43m,\u001b[49m\u001b[43m \u001b[49m\u001b[43my\u001b[49m\u001b[43m,\u001b[49m\u001b[43m \u001b[49m\u001b[43mname\u001b[49m\u001b[38;5;241;43m=\u001b[39;49m\u001b[43mname\u001b[49m\u001b[43m)\u001b[49m\n",
      "File \u001b[0;32m/usr/local/lib/python3.8/dist-packages/tensorflow/python/ops/gen_math_ops.py:3301\u001b[0m, in \u001b[0;36mequal\u001b[0;34m(x, y, incompatible_shape_error, name)\u001b[0m\n\u001b[1;32m   3299\u001b[0m \u001b[38;5;28;01mif\u001b[39;00m tld\u001b[38;5;241m.\u001b[39mis_eager:\n\u001b[1;32m   3300\u001b[0m   \u001b[38;5;28;01mtry\u001b[39;00m:\n\u001b[0;32m-> 3301\u001b[0m     _result \u001b[38;5;241m=\u001b[39m \u001b[43mpywrap_tfe\u001b[49m\u001b[38;5;241;43m.\u001b[39;49m\u001b[43mTFE_Py_FastPathExecute\u001b[49m\u001b[43m(\u001b[49m\n\u001b[1;32m   3302\u001b[0m \u001b[43m      \u001b[49m\u001b[43m_ctx\u001b[49m\u001b[43m,\u001b[49m\u001b[43m \u001b[49m\u001b[38;5;124;43m\"\u001b[39;49m\u001b[38;5;124;43mEqual\u001b[39;49m\u001b[38;5;124;43m\"\u001b[39;49m\u001b[43m,\u001b[49m\u001b[43m \u001b[49m\u001b[43mname\u001b[49m\u001b[43m,\u001b[49m\u001b[43m \u001b[49m\u001b[43mx\u001b[49m\u001b[43m,\u001b[49m\u001b[43m \u001b[49m\u001b[43my\u001b[49m\u001b[43m,\u001b[49m\u001b[43m \u001b[49m\u001b[38;5;124;43m\"\u001b[39;49m\u001b[38;5;124;43mincompatible_shape_error\u001b[39;49m\u001b[38;5;124;43m\"\u001b[39;49m\u001b[43m,\u001b[49m\n\u001b[1;32m   3303\u001b[0m \u001b[43m      \u001b[49m\u001b[43mincompatible_shape_error\u001b[49m\u001b[43m)\u001b[49m\n\u001b[1;32m   3304\u001b[0m     \u001b[38;5;28;01mreturn\u001b[39;00m _result\n\u001b[1;32m   3305\u001b[0m   \u001b[38;5;28;01mexcept\u001b[39;00m _core\u001b[38;5;241m.\u001b[39m_NotOkStatusException \u001b[38;5;28;01mas\u001b[39;00m e:\n",
      "\u001b[0;31mKeyboardInterrupt\u001b[0m: "
     ]
    }
   ],
   "source": [
    "try:\n",
    "    %%time\n",
    "except:\n",
    "    pass\n",
    "\n",
    "# (Optional) Optimize by wrapping some of the code in a graph using TF function.\n",
    "agent.train = common.function(agent.train)\n",
    "\n",
    "# Reset the train step.\n",
    "agent.train_step_counter.assign(0)\n",
    "\n",
    "# Evaluate the agent's policy once before training.\n",
    "avg_return = compute_avg_return(tf_env, agent.policy, num_eval_episodes)\n",
    "returns = [avg_return]\n",
    "\n",
    "# Reset the environment.\n",
    "time_step = env.reset()\n",
    "\n",
    "# Create a driver to collect experience.\n",
    "collect_driver = py_driver.PyDriver(\n",
    "    tf_env,\n",
    "    py_tf_eager_policy.PyTFEagerPolicy(\n",
    "      agent.collect_policy, use_tf_function=True),\n",
    "    [rb_observer],\n",
    "    max_steps=collect_steps_per_iteration)\n",
    "\n",
    "for _ in range(num_iterations):\n",
    "\n",
    "  # Collect a few steps and save to the replay buffer.\n",
    "    time_step, _ = collect_driver.run(time_step)\n",
    "\n",
    "    # Sample a batch of data from the buffer and update the agent's network.\n",
    "    experience, unused_info = next(iterator)\n",
    "    train_loss = agent.train(experience).loss\n",
    "\n",
    "    step = agent.train_step_counter.numpy()\n",
    "\n",
    "    if step % log_interval == 0:\n",
    "        print('step = {0}: loss = {1}'.format(step, train_loss))\n",
    "\n",
    "    if step % eval_interval == 0:\n",
    "        avg_return = compute_avg_return(tf_env, agent.policy, num_eval_episodes)\n",
    "        print('step = {0}: Average Return = {1}'.format(step, avg_return))\n",
    "        returns.append(avg_return)"
   ]
  },
  {
   "cell_type": "markdown",
   "id": "2ebe250c-6a9c-44a9-88e4-24998f429255",
   "metadata": {},
   "source": [
    "## Search-Amplified Object-level Q-Value Estimation"
   ]
  },
  {
   "cell_type": "code",
   "execution_count": 16,
   "id": "211b495d-ac71-4816-ac1e-51094a3585b7",
   "metadata": {},
   "outputs": [],
   "source": [
    "import tensorflow as tf"
   ]
  },
  {
   "cell_type": "code",
   "execution_count": 173,
   "id": "b9a7dda7-8e4a-4edf-a47c-3a0b0bfd6c5b",
   "metadata": {},
   "outputs": [],
   "source": [
    "class SimpleSearchBasedQEstimator:\n",
    "    \"\"\"\n",
    "        Assumes a deterministic environment and only uses child nodes to compute Q-values\n",
    "    \"\"\"\n",
    "    \n",
    "    def __init__(self, goal_state: np.array, n_actions: int = 4, discount: float = 0.99):\n",
    "        self.n_actions = n_actions\n",
    "        self.discount = discount\n",
    "        self.goal_state = goal_state\n",
    "    \n",
    "    def compute_q(self, search_tree_node: SearchTreeNode, action: int) -> float:\n",
    "        children = search_tree_node.get_children()\n",
    "        if action in children:\n",
    "            child_node = children[action][0]\n",
    "            action_taken, reward, next_state = child_node.get_trajectory()\n",
    "            return reward + self.discount * self.compute_value(child_node)\n",
    "        np.abs(env.state - env.maze_view.goal).sum()\n",
    "        return 0\n",
    "        \n",
    "    def compute_value(self, search_tree_node: SearchTreeNode) -> float:\n",
    "        return max(self.compute_q(search_tree_node, action) for action in range(self.n_actions))"
   ]
  },
  {
   "cell_type": "code",
   "execution_count": 174,
   "id": "65fec030-df13-4a41-97d8-75bc893d42e9",
   "metadata": {},
   "outputs": [],
   "source": [
    "q_est = SimpleSearchBasedQEstimator()"
   ]
  },
  {
   "cell_type": "code",
   "execution_count": 175,
   "id": "37315a43-b3ed-41c7-90e2-a9a2b7cfcbfe",
   "metadata": {},
   "outputs": [
    {
     "data": {
      "text/plain": [
       "0"
      ]
     },
     "execution_count": 175,
     "metadata": {},
     "output_type": "execute_result"
    }
   ],
   "source": [
    "q_est.compute_value(search_tree.get_root())"
   ]
  },
  {
   "cell_type": "code",
   "execution_count": 180,
   "id": "f9634f8a-e3af-4780-b727-4d5978a91ca0",
   "metadata": {},
   "outputs": [
    {
     "data": {
      "text/plain": [
       "array([1, 0], dtype=int32)"
      ]
     },
     "execution_count": 180,
     "metadata": {},
     "output_type": "execute_result"
    }
   ],
   "source": [
    "env.state"
   ]
  },
  {
   "cell_type": "code",
   "execution_count": 181,
   "id": "d5101e0c-58cd-4a38-8a3f-5ee61eb8344c",
   "metadata": {},
   "outputs": [
    {
     "data": {
      "text/plain": [
       "17"
      ]
     },
     "execution_count": 181,
     "metadata": {},
     "output_type": "execute_result"
    }
   ],
   "source": []
  }
 ],
 "metadata": {
  "kernelspec": {
   "display_name": "Python 3",
   "language": "python",
   "name": "python3"
  },
  "language_info": {
   "codemirror_mode": {
    "name": "ipython",
    "version": 3
   },
   "file_extension": ".py",
   "mimetype": "text/x-python",
   "name": "python",
   "nbconvert_exporter": "python",
   "pygments_lexer": "ipython3",
   "version": "3.8.10"
  }
 },
 "nbformat": 4,
 "nbformat_minor": 5
}
